{
 "cells": [
  {
   "cell_type": "markdown",
   "metadata": {},
   "source": [
    "# Evaluación Final Módulo 1\n",
    "\n",
    "## TiendaOnline"
   ]
  },
  {
   "cell_type": "markdown",
   "metadata": {},
   "source": [
    "- La clase TiendaOnline debe tener los siguientes atributos:\n",
    "\n",
    "    1. inventario (lista de diccionarios): Un atributo para almacenar los productos en\n",
    "        el inventario. Cada producto debe ser representado como un diccionario con las\n",
    "        siguientes claves: 'nombre', 'precio', y 'cantidad'. Al principio deberá ser\n",
    "        una lista vacía. Ejemplo de como debería ser:\n",
    "        \n",
    "            [{'nombre': 'Camisa', 'precio': 20, 'cantidad': 40},\n",
    "            {'nombre': 'Pantalón', 'precio': 30, 'cantidad': 30}]\n",
    "\n",
    "    2. clientes (diccionario): Un atributo para llevar un registro de los clientes de la\n",
    "        tienda. Cada cliente debe ser representado como un diccionario con las\n",
    "        siguientes claves: 'nombre' y 'email'. Al inicio deberá ser un diccionario vacío.\n",
    "        Además, cada cliente debe tener un historial de compras. Deberá parecerse a:\n",
    "        \n",
    "            {'Cliente1': {'email': 'cliente1@email.com', 'compras': []},\n",
    "            'Cliente2': {'email': 'cliente2@email.com', 'compras': []}}\n",
    "\n",
    "    3. ventas_totales (float): Un atributo para llevar un registro de las ventas totales\n",
    "        de la tienda. Inicializalo con valor 0\n",
    "\n",
    "    La clase TiendaOnline debe tener los siguientes métodos:\n",
    "\n",
    "    4. agregar_producto(self, nombre, precio, cantidad): Este método agrega\n",
    "        un producto al inventario o actualiza su cantidad si ya existe. Debe recibir el\n",
    "        nombre, precio y cantidad del producto como parámetros.\n",
    "\n",
    "            - Itera a través del inventario y compara los nombres de los productos con\n",
    "              el nombre proporcionado.\n",
    "            - Si el producto ya existe, actualiza la cantidad.\n",
    "            - Si no existe, agrega un nuevo producto al inventario.\n",
    "\n",
    "    5. ver_inventario(self): Muestra el inventario de productos con sus detalles.\n",
    "            - Utiliza un bucle for para recorrer el inventario.\n",
    "            - Imprime los detalles (nombre, precio, cantidad) de cada producto.\n",
    "            - Debería verse:\n",
    "\n",
    "                Nombre: Camisa, Precio: $20, Cantidad: 50\n",
    "                Nombre: Pantalón, Precio: $30, Cantidad: 30\n",
    "                Nombre: Zapatos, Precio: $50, Cantidad: 40\n",
    "                Nombre: Camisa, Precio: $20, Cantidad: 50\n",
    "\n",
    "    6. buscar_producto(self, nombre): Busca un producto en el inventario por\n",
    "        nombre y muestra sus detalles si se encuentra. Debe recibir el nombre del\n",
    "        producto como parámetro.\n",
    "            - Utiliza un bucle for para recorrer el inventario.\n",
    "            - Compara los nombres de los productos con el nombre proporcionado.\n",
    "            - Si se encuentra el producto, imprime sus detalles.\n",
    "            - Debe mostrar:\n",
    "\n",
    "                Nombre: Camisa, Precio: $20, Cantidad: 40\n",
    "\n",
    "    7. actualizar_stock(self, nombre, cantidad): Actualiza el stock de un\n",
    "        producto en el inventario. Debe recibir el nombre del producto y la cantidad a\n",
    "        agregar o quitar como parámetros.\n",
    "\n",
    "            - Utiliza un bucle for para recorrer el inventario.\n",
    "            - Busca el producto por nombre.\n",
    "            - Actualiza la cantidad según la entrada del usuario.\n",
    "            - Si el producto no esta en el inventario muestra un mensaje indicándolo.\n",
    "\n",
    "    8. eliminar_producto(self, nombre): Elimina un producto del inventario por\n",
    "        nombre. Debe recibir el nombre del producto como parámetro.\n",
    "\n",
    "            - Utiliza un bucle for para recorrer el inventario.\n",
    "            - Busca el producto por nombre.\n",
    "            - Elimina el producto del inventario si existe.\n",
    "            - Si el producto no esta en el inventario muestra un mensaje indicándolo.\n",
    "\n",
    "    9. calcular_valor_inventario(self): Calcula y muestra el valor total del\n",
    "        inventario.\n",
    "\n",
    "            - Utiliza un bucle for para calcular el valor total del inventario.\n",
    "            - Itera a través del inventario y suma el valor de cada producto (precio x\n",
    "                cantidad). Es decir, calcula el valor total del inventario. Ejemplo:\n",
    "                * si tenemos 5 camisas que valen 5 euros y 10 calcetines que valen 1 euro\n",
    "                  este método te tiene que devolver: 35 euros\n",
    "                    valor_camisas = 5 * 5\n",
    "                    valor_calcetines = 10 * 1\n",
    "                    valor_camisas + valor_calcetines = 35\n",
    "    \n",
    "    10. realizar_compra(self): Permite a un cliente realizar una compra\n",
    "        seleccionando productos del inventario. Debe interactuar con el cliente para\n",
    "        seleccionar productos y calcular el costo total de la compra.\n",
    "            - Utiliza un bucle while para permitir al cliente realizar múltiples compras.\n",
    "            - Muestra el inventario y solicita al cliente ingresar el nombre del\n",
    "            producto que desea comprar.\n",
    "            - Registra los productos seleccionados en un carrito y actualiza el\n",
    "            inventario.\n",
    "            - Calcula el costo total de la compra.\n",
    "\n",
    "    📌 A partir de este punto los ejercicios son voluntarios:\n",
    "\n",
    "    11. procesar_pago(self): Procesa el pago de una compra, calcula el cambio y\n",
    "        muestra un mensaje de confirmación.\n",
    "    \n",
    "            - Utiliza un bloque try...except para manejar excepciones.\n",
    "            - Solicita al cliente ingresar la cantidad total y la cantidad de pago usando\n",
    "              un input.\n",
    "            - Calcula el cambio y muestra un mensaje de pago exitoso o un error en\n",
    "              caso de monto insuficiente.\n",
    "\n",
    "    12. agregar_cliente(self, nombre, email): Agrega un nuevo cliente al registro\n",
    "        de clientes. Debe recibir el nombre y el correo electrónico del cliente como\n",
    "        parámetros.\n",
    "        \n",
    "            - Agrega un cliente al diccionario de clientes con su nombre y correo\n",
    "              electrónico.\n",
    "\n",
    "    13. ver_clientes(self): Muestra la lista de clientes registrados con sus nombres y\n",
    "        correos electrónicos.\n",
    "        \n",
    "            - Utiliza un bucle for para recorrer la base de datos de clientes.\n",
    "            - Imprime los detalles de cada cliente (nombre y correo electrónico).\n",
    "\n",
    "    14. registrar_compra(self, nombre_cliente, carrito): Registra una compra\n",
    "        para un cliente, actualiza las ventas totales y agrega la compra al historial del\n",
    "        cliente. Debe recibir el nombre del cliente y el carrito de compras como\n",
    "        parámetros.\n",
    "        \n",
    "            - Busca al cliente en el diccionario de clientes.\n",
    "            - Si el cliente no esta en el diccionario de clientes, muestra que no se\n",
    "            puede realizar la acción por que el cliente no está en el diccionario.\n",
    "            - Calcula el total de la compra y registra la compra, incluyendo los\n",
    "            productos y el total.\n",
    "            - Ejemplo:\n",
    "\n",
    "                carrito_cliente1 = {\"Camisa\": {\"precio\": 20, \"cantidad\":3}}\n",
    "                tienda.registrar_compra(\"Cliente1\", carrito_cliente1)\n",
    "\n",
    "    15. ver_compras_cliente(self, nombre_cliente): Muestra el historial de\n",
    "        compras de un cliente. Debe recibir el nombre del cliente como parámetro.\n",
    "        \n",
    "            - Busca al cliente en el diccionario de clientes.\n",
    "            - Muestra las compras realizadas por el cliente, incluyendo detalles de\n",
    "              productos y totales.\n",
    "\n",
    "    16. calcular_ventas_totales(self): Muestra las ventas totales de la tienda.\n",
    "        \n",
    "            - Suma los totales de todas las compras realizadas y muestra el total de\n",
    "              ventas totales en la tienda."
   ]
  },
  {
   "cell_type": "code",
   "execution_count": 30,
   "metadata": {},
   "outputs": [],
   "source": [
    "class TiendaOnline():\n",
    "\n",
    "    \"\"\"Según las especificaciones cremos un clase de una tienda online, el inventario\n",
    "      es una lista vacia, el cliente un diccionario vacio y las ventas totales que es un float\n",
    "    a cero\"\"\"\n",
    "\n",
    "    \n",
    "    def __init__ (self):\n",
    "        \n",
    "        self.inventario=[]\n",
    "        self.clientes={}\n",
    "        self.ventas_totales=0.0\n",
    "    \n",
    "    \"\"\" Este método nos permite agregar un producto al inventario, en el caso que exista modifica la cantidad\"\"\"\n",
    "    \n",
    "    def agregar_producto(self,nombre,precio,cantidad):\n",
    "    \n",
    "        for producto in self.inventario:\n",
    "            if producto[\"nombre\"] == nombre:     #producto contiene {\"nombre\":nombre,\"precio\":precio,\"cantidad\":cantidad} y para acceder al nombre lo podemos hacer con la clave.    \n",
    "               producto[\"cantidad\"]+=cantidad    #Como lo hemos encontrado, es que existe y aumentamos la cantidad.\n",
    "               break\n",
    "        \n",
    "        self.inventario.append({\"nombre\":nombre,\"precio\":precio,\"cantidad\":cantidad}) #Como no existe actualizamos el inventario con los datos del nuevo producto.  \n",
    "        print(f\"Hemos actualizado el inventario con el producto {nombre}.\")\n",
    "           \n",
    "    \"\"\"En este método recorremos el inventario mostrando el nombre, \n",
    "       precio y cantidad con el mismo formato que indica el enunciado. \"\"\" \n",
    "    \n",
    "    def ver_inventario (self):\n",
    "       \n",
    "        for producto in self.inventario:\n",
    "            nombre = producto [\"nombre\"]\n",
    "            precio = producto [\"precio\"]\n",
    "            cantidad = producto [\"cantidad\"]\n",
    "            print(f\"Nombre: {nombre}, Precio: ${precio}, Cantidad: {cantidad}\")\n",
    "    \n",
    "    \"\"\"Este metodo recorre el inventario buscando el producto \n",
    "       que le pasamos y en el caso de no encontrarlo nos permite darlo de alta.\"\"\"       \n",
    "        \n",
    "    def buscar_producto(self,nombre):\n",
    "          encontrado=False\n",
    "          for producto in self.inventario:\n",
    "             if producto[\"nombre\"]== nombre:\n",
    "                 encontrado=True\n",
    "                 break\n",
    "             else:\n",
    "                 encontrado=False\n",
    "                 \n",
    "          if encontrado:\n",
    "              print (f\"El producto buscado es: {producto}\")\n",
    "          else:\n",
    "              print (f\"El producto {producto} no está en el inventario\")        \n",
    "                \n",
    "             \n",
    "                              \n",
    "    def actualizar_stock (self,nombre,cantidad):\n",
    "        for producto in self.inventario:\n",
    "             if producto[\"nombre\"]== nombre:\n",
    "                producto[\"cantidad\"]=cantidad\n",
    "                break\n",
    "             else:\n",
    "                print(\"El producto que quiere actualizar no existe\")\n",
    "    \n",
    "    def eliminar_producto(self,nombre):\n",
    "        \n",
    "        for producto in self.inventario:\n",
    "            if producto[\"nombre\"]== nombre:\n",
    "                i= self.inventario.index(producto)\n",
    "                self.inventario.pop(i)\n",
    "                print(f\"Se ha eliminado el producto: {producto}\")\n",
    "                break\n",
    "            else:\n",
    "                print(\"El producto no existe\")\n",
    "                break\n",
    "    \n",
    "    def calcular_valor_inventario(self):\n",
    "        suma=0\n",
    "        for producto in self.inventario:\n",
    "            #forma de acceder a la variable de cantidad y de precio\n",
    "            suma_por_producto = producto[\"cantidad\"] * producto [\"precio\"]\n",
    "            suma += suma_por_producto\n",
    "        print(f\"El total de la suma del inventario es de €{suma}\")\n",
    "    \n",
    "    \n",
    "    def procesar_pago(self,precio_final):\n",
    "        print(f\"El precio a pagar es de {precio_final}\")\n",
    "        pago_cliente=float(input(\"Introduce el importe pagado\"))\n",
    "        \n",
    "        try:\n",
    "            if precio_final<pago_cliente:\n",
    "                print(\"el cambio que le corresponde es de: \",pago_cliente-precio_final,\"€\")\n",
    "            elif precio_final==pago_cliente:\n",
    "                print(\"El importe pagado es el precio justo\")\n",
    "            else:\n",
    "                print(\"El importe pagado es insuficiente\")    \n",
    "        except ValueError:\n",
    "                print(\"Ha habido algún error con los importes\")\n",
    "        \n",
    "    def realizar_compra(self):\n",
    "        ya_esta=True\n",
    "        carrito=[]\n",
    "        precio_final=0.0\n",
    "        unidades=True\n",
    "        lista_carrito=\"\"\n",
    "       \n",
    "        print(\"Estos son los productos que tenemos ahora mismo disponibles\")\n",
    "        self.ver_inventario()\n",
    "        while ya_esta:\n",
    "           \n",
    "            nombre= input(\"¿Qué producto quieres comprar?\").lower()\n",
    "           \n",
    "            for producto in self.inventario:\n",
    "               if nombre == producto[\"nombre\"].lower():\n",
    "                   unidades =int(input (\"¿Cuentas unidades quieres comprar?\"))\n",
    "                   if producto[\"cantidad\"]>=unidades:\n",
    "                       producto[\"cantidad\"]-=unidades\n",
    "                       carrito.append(producto)\n",
    "                       break\n",
    "                   else:\n",
    "                       print(\"No hay suficientes unidades\")\n",
    "            \n",
    "            mas_compra=input(\"¿Quieres realizar alguna compra más?\")\n",
    "            if mas_compra == \"s\":\n",
    "                ya_esta = True\n",
    "            else:\n",
    "                ya_esta = False\n",
    "            \n",
    "        for producto in carrito:\n",
    "            precio_final+= unidades * producto[\"precio\"]\n",
    "            lista_carrito += producto[\"nombre\"]\n",
    "        \n",
    "        print(f\"La lista de la compra es: {lista_carrito}\")\n",
    "        print(f\"El precio final de la compra es de {precio_final}€\")\n",
    "        \n",
    "        self.procesar_pago(precio_final)\n",
    "    \n",
    "    def agregar_cliente(self,nombre,email):\n",
    "        if nombre in self.clientes.keys():\n",
    "            return f\"El cliente '{nombre}' con email '{email}' ya está registrado.\"\n",
    "        else:\n",
    "            self.clientes[nombre]= {\"email\":email, \"compras\":[]}\n",
    "        \n",
    "    def ver_clientes(self):\n",
    "        for clientes in self.clientes.items():\n",
    "            print(f\"Los clientes dados de alta son:{clientes}\")\n",
    "            \n",
    "    def registrar_compra(self,nombre_cliente,carrito):\n",
    "        pass\n",
    "    \n",
    "    def ver_compras_cliente(self,nombre_cliente):\n",
    "        \n",
    "        if nombre_cliente in self.clientes: #clientes es un diccionario cuyos valores son otro diccionario para lo que necesitamos obtener el valor de la clave Nombre_cliente      \n",
    "            print(f\"{nombre_cliente}, {self.clientes[nombre_cliente]['compras']}\")\n",
    "        else:\n",
    "            \n",
    "            print(f\"El cliente no está dado de alta\")\n",
    "    \n",
    "    def calcular_ventas_totales (self):\n",
    "        pass\n",
    " "
   ]
  },
  {
   "cell_type": "code",
   "execution_count": 31,
   "metadata": {},
   "outputs": [],
   "source": [
    "tienda=TiendaOnline()"
   ]
  },
  {
   "cell_type": "code",
   "execution_count": 32,
   "metadata": {},
   "outputs": [
    {
     "name": "stdout",
     "output_type": "stream",
     "text": [
      "Hemos actualizado el inventario con el producto Camisa.\n",
      "Hemos actualizado el inventario con el producto Pantalon.\n",
      "Hemos actualizado el inventario con el producto Zapatos.\n"
     ]
    }
   ],
   "source": [
    "tienda.agregar_producto(\"Camisa\",20,50)\n",
    "tienda.agregar_producto(\"Pantalon\",40,30)\n",
    "tienda.agregar_producto(\"Zapatos\",50,40)\n"
   ]
  },
  {
   "cell_type": "code",
   "execution_count": 33,
   "metadata": {},
   "outputs": [
    {
     "name": "stdout",
     "output_type": "stream",
     "text": [
      "Nombre: Camisa, Precio: $20, Cantidad: 50\n",
      "Nombre: Pantalon, Precio: $40, Cantidad: 30\n",
      "Nombre: Zapatos, Precio: $50, Cantidad: 40\n"
     ]
    }
   ],
   "source": [
    "tienda.ver_inventario()"
   ]
  },
  {
   "cell_type": "code",
   "execution_count": 34,
   "metadata": {},
   "outputs": [
    {
     "name": "stdout",
     "output_type": "stream",
     "text": [
      "El producto buscado es: {'nombre': 'Pantalon', 'precio': 40, 'cantidad': 30}\n"
     ]
    }
   ],
   "source": [
    "tienda.buscar_producto(\"Pantalon\")"
   ]
  },
  {
   "cell_type": "code",
   "execution_count": 35,
   "metadata": {},
   "outputs": [
    {
     "name": "stdout",
     "output_type": "stream",
     "text": [
      "Se ha eliminado el producto: {'nombre': 'Camisa', 'precio': 20, 'cantidad': 50}\n"
     ]
    }
   ],
   "source": [
    "tienda.eliminar_producto(\"Camisa\")"
   ]
  },
  {
   "cell_type": "code",
   "execution_count": 36,
   "metadata": {},
   "outputs": [
    {
     "name": "stdout",
     "output_type": "stream",
     "text": [
      "Nombre: Pantalon, Precio: $40, Cantidad: 30\n",
      "Nombre: Zapatos, Precio: $50, Cantidad: 40\n"
     ]
    }
   ],
   "source": [
    "tienda.ver_inventario()"
   ]
  },
  {
   "cell_type": "code",
   "execution_count": 37,
   "metadata": {},
   "outputs": [],
   "source": [
    "tienda.actualizar_stock(\"Pantalon\",60)"
   ]
  },
  {
   "cell_type": "code",
   "execution_count": 38,
   "metadata": {},
   "outputs": [
    {
     "name": "stdout",
     "output_type": "stream",
     "text": [
      "Nombre: Pantalon, Precio: $40, Cantidad: 60\n",
      "Nombre: Zapatos, Precio: $50, Cantidad: 40\n"
     ]
    }
   ],
   "source": [
    "tienda.ver_inventario()"
   ]
  },
  {
   "cell_type": "code",
   "execution_count": 39,
   "metadata": {},
   "outputs": [
    {
     "name": "stdout",
     "output_type": "stream",
     "text": [
      "El total de la suma del inventario es de €4400\n"
     ]
    }
   ],
   "source": [
    "tienda.calcular_valor_inventario()"
   ]
  },
  {
   "cell_type": "code",
   "execution_count": 12,
   "metadata": {},
   "outputs": [
    {
     "name": "stdout",
     "output_type": "stream",
     "text": [
      "Estos son los productos que tenemos ahora mismo disponibles\n",
      "Nombre: Camisa, Precio: $20, Cantidad: 46\n",
      "Nombre: Pantalon, Precio: $40, Cantidad: 30\n",
      "Nombre: Zapatos, Precio: $50, Cantidad: 39\n",
      "La lista de la compra es: Camisa\n",
      "El precio final de la compra es de 20.0€\n",
      "El precio a pagar es de 20.0\n",
      "El importe pagado es el precio justo\n"
     ]
    }
   ],
   "source": [
    "tienda.realizar_compra()"
   ]
  },
  {
   "cell_type": "code",
   "execution_count": null,
   "metadata": {},
   "outputs": [],
   "source": [
    "tienda.ver_inventario()"
   ]
  },
  {
   "cell_type": "code",
   "execution_count": 41,
   "metadata": {},
   "outputs": [],
   "source": [
    "tienda.agregar_cliente(\"Jose\",\"jose@gmail.com\")"
   ]
  },
  {
   "cell_type": "code",
   "execution_count": 42,
   "metadata": {},
   "outputs": [
    {
     "name": "stdout",
     "output_type": "stream",
     "text": [
      "Los clientes dados de alta son:('Jose', {'email': 'jose@gmail.com', 'compras': []})\n"
     ]
    }
   ],
   "source": [
    "tienda.ver_clientes()"
   ]
  },
  {
   "cell_type": "code",
   "execution_count": 44,
   "metadata": {},
   "outputs": [
    {
     "name": "stdout",
     "output_type": "stream",
     "text": [
      "Jose, []\n"
     ]
    }
   ],
   "source": [
    "tienda.ver_compras_cliente(\"Jose\")"
   ]
  }
 ],
 "metadata": {
  "kernelspec": {
   "display_name": "base",
   "language": "python",
   "name": "python3"
  },
  "language_info": {
   "codemirror_mode": {
    "name": "ipython",
    "version": 3
   },
   "file_extension": ".py",
   "mimetype": "text/x-python",
   "name": "python",
   "nbconvert_exporter": "python",
   "pygments_lexer": "ipython3",
   "version": "3.9.7"
  }
 },
 "nbformat": 4,
 "nbformat_minor": 2
}
